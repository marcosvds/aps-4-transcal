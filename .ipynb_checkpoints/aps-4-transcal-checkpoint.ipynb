{
 "cells": [
  {
   "cell_type": "code",
   "execution_count": 80,
   "id": "042d3066",
   "metadata": {},
   "outputs": [],
   "source": [
    "from scipy.integrate import odeint\n",
    "from math import *\n",
    "import numpy as np\n",
    "import matplotlib.pyplot as plt\n",
    "import pandas as pd\n",
    "from mpl_toolkits import mplot3d"
   ]
  },
  {
   "cell_type": "code",
   "execution_count": null,
   "id": "e974dab6",
   "metadata": {},
   "outputs": [],
   "source": [
    "def plota(N,Inc):\n",
    "    # Numero de membros\n",
    "    nm = len(Inc[:,0])\n",
    "    \n",
    "    import matplotlib as mpl\n",
    "    import matplotlib.pyplot as plt\n",
    "\n",
    "#    plt.show()\n",
    "    fig = plt.figure()\n",
    "    # Passa por todos os membros\n",
    "    for i in range(nm):\n",
    "        \n",
    "        # encontra no inicial [n1] e final [n2] \n",
    "        n1 = int(Inc[i,0])\n",
    "        n2 = int(Inc[i,1])        \n",
    "\n",
    "        plt.plot([N[0,n1-1],N[0,n2-1]],[N[1,n1-1],N[1,n2-1]],color='r',linewidth=3)\n",
    "\n",
    "\n",
    "    plt.xlabel('x [m]')\n",
    "    plt.ylabel('y [m]')\n",
    "    plt.grid(True)\n",
    "    plt.axis('equal')\n",
    "    plt.show()"
   ]
  },
  {
   "cell_type": "code",
   "execution_count": null,
   "id": "a782e6f3",
   "metadata": {},
   "outputs": [],
   "source": [
    "def importa(entradaNome):\n",
    "    \n",
    "    import numpy as np\n",
    "    import xlrd\n",
    "    \n",
    "    arquivo = xlrd.open_workbook(entradaNome)\n",
    "    \n",
    "    ################################################## Ler os nos\n",
    "    nos = arquivo.sheet_by_name('Nos')\n",
    "    \n",
    "    # Numero de nos\n",
    "    nn = int(nos.cell(1,3).value)\n",
    "                 \n",
    "    # Matriz dos nós\n",
    "    N = np.zeros((2,nn))\n",
    "    \n",
    "    for c in range(nn):\n",
    "        N[0,c] = nos.cell(c+1,0).value\n",
    "        N[1,c] = nos.cell(c+1,1).value\n",
    "    \n",
    "    ################################################## Ler a incidencia\n",
    "    incid = arquivo.sheet_by_name('Incidencia')\n",
    "    \n",
    "    # Numero de membros\n",
    "    nm = int(incid.cell(1,5).value)\n",
    "                 \n",
    "    # Matriz de incidencia\n",
    "    Inc = np.zeros((nm,4))\n",
    "    \n",
    "    for c in range(nm):\n",
    "        Inc[c,0] = int(incid.cell(c+1,0).value)\n",
    "        Inc[c,1] = int(incid.cell(c+1,1).value)\n",
    "        Inc[c,2] = incid.cell(c+1,2).value\n",
    "        Inc[c,3] = incid.cell(c+1,3).value\n",
    "    \n",
    "    ################################################## Ler as cargas\n",
    "    carg = arquivo.sheet_by_name('Carregamento')\n",
    "    \n",
    "    # Numero de cargas\n",
    "    nc = int(carg.cell(1,4).value)\n",
    "                 \n",
    "    # Vetor carregamento\n",
    "    F = np.zeros((nn*2,1))\n",
    "    \n",
    "    for c in range(nc):\n",
    "        no = carg.cell(c+1,0).value\n",
    "        xouy = carg.cell(c+1,1).value\n",
    "        GDL = int(no*2-(2-xouy)) \n",
    "        F[GDL-1,0] = carg.cell(c+1,2).value\n",
    "         \n",
    "    ################################################## Ler restricoes\n",
    "    restr = arquivo.sheet_by_name('Restricao')\n",
    "    \n",
    "    # Numero de restricoes\n",
    "    nr = int(restr.cell(1,3).value)\n",
    "                 \n",
    "    # Vetor com os graus de liberdade restritos\n",
    "    R = np.zeros((nr,1))\n",
    "    \n",
    "    for c in range(nr):\n",
    "        no = restr.cell(c+1,0).value\n",
    "        xouy = restr.cell(c+1,1).value\n",
    "        GDL = no*2-(2-xouy) \n",
    "        R[c,0] = GDL-1\n",
    "\n",
    "\n",
    "    return nn,N,nm,Inc,nc,F,nr,R"
   ]
  },
  {
   "cell_type": "code",
   "execution_count": null,
   "id": "4fe5b76f",
   "metadata": {},
   "outputs": [],
   "source": []
  },
  {
   "cell_type": "code",
   "execution_count": null,
   "id": "af31dd74",
   "metadata": {},
   "outputs": [],
   "source": []
  },
  {
   "cell_type": "code",
   "execution_count": null,
   "id": "b7259d24",
   "metadata": {},
   "outputs": [],
   "source": []
  },
  {
   "cell_type": "code",
   "execution_count": null,
   "id": "99c55140",
   "metadata": {},
   "outputs": [],
   "source": []
  },
  {
   "cell_type": "code",
   "execution_count": null,
   "id": "f74f13ac",
   "metadata": {},
   "outputs": [],
   "source": []
  },
  {
   "cell_type": "code",
   "execution_count": null,
   "id": "949b766b",
   "metadata": {},
   "outputs": [],
   "source": []
  },
  {
   "cell_type": "code",
   "execution_count": null,
   "id": "6693c5a0",
   "metadata": {},
   "outputs": [],
   "source": []
  },
  {
   "cell_type": "code",
   "execution_count": null,
   "id": "9d534478",
   "metadata": {},
   "outputs": [],
   "source": []
  },
  {
   "cell_type": "code",
   "execution_count": null,
   "id": "81964555",
   "metadata": {},
   "outputs": [],
   "source": []
  },
  {
   "cell_type": "code",
   "execution_count": null,
   "id": "8e9d327f",
   "metadata": {},
   "outputs": [],
   "source": []
  },
  {
   "cell_type": "code",
   "execution_count": null,
   "id": "47aa2d76",
   "metadata": {},
   "outputs": [],
   "source": []
  },
  {
   "cell_type": "code",
   "execution_count": null,
   "id": "7e3ea81e",
   "metadata": {},
   "outputs": [],
   "source": []
  },
  {
   "cell_type": "code",
   "execution_count": null,
   "id": "75306966",
   "metadata": {},
   "outputs": [],
   "source": []
  },
  {
   "cell_type": "code",
   "execution_count": null,
   "id": "a58139c1",
   "metadata": {},
   "outputs": [],
   "source": []
  },
  {
   "cell_type": "code",
   "execution_count": null,
   "id": "2196d35a",
   "metadata": {},
   "outputs": [],
   "source": []
  },
  {
   "cell_type": "code",
   "execution_count": null,
   "id": "35475726",
   "metadata": {},
   "outputs": [],
   "source": []
  },
  {
   "cell_type": "code",
   "execution_count": null,
   "id": "6ef79048",
   "metadata": {},
   "outputs": [],
   "source": []
  },
  {
   "cell_type": "code",
   "execution_count": null,
   "id": "c170ebaa",
   "metadata": {},
   "outputs": [],
   "source": []
  },
  {
   "cell_type": "code",
   "execution_count": null,
   "id": "6436c0b3",
   "metadata": {},
   "outputs": [],
   "source": []
  },
  {
   "cell_type": "code",
   "execution_count": null,
   "id": "ca71551c",
   "metadata": {},
   "outputs": [],
   "source": []
  },
  {
   "cell_type": "code",
   "execution_count": null,
   "id": "79b7e92d",
   "metadata": {},
   "outputs": [],
   "source": []
  }
 ],
 "metadata": {
  "kernelspec": {
   "display_name": "Python 3 (ipykernel)",
   "language": "python",
   "name": "python3"
  },
  "language_info": {
   "codemirror_mode": {
    "name": "ipython",
    "version": 3
   },
   "file_extension": ".py",
   "mimetype": "text/x-python",
   "name": "python",
   "nbconvert_exporter": "python",
   "pygments_lexer": "ipython3",
   "version": "3.9.13"
  }
 },
 "nbformat": 4,
 "nbformat_minor": 5
}
